{
 "cells": [
  {
   "cell_type": "markdown",
   "id": "17ec8d6a-4218-49b9-a549-0977cec82967",
   "metadata": {
    "id": "MVpsYfWg3z0B"
   },
   "source": [
    "# PW1 - Handwritten character recognition\n"
   ]
  },
  {
   "cell_type": "code",
   "execution_count": 3,
   "id": "d682452d-e56e-4de8-a420-4418d63790a7",
   "metadata": {},
   "outputs": [],
   "source": [
    "# Write your name here (e.g. \"Edmond Dantès\") so I can grade your work\n",
    "your_name = \"Maxime CHHAPPUIS\"\n",
    "assert your_name"
   ]
  },
  {
   "cell_type": "code",
   "execution_count": 4,
   "id": "f8538cf7-81e0-481a-8059-be38b611aafb",
   "metadata": {
    "id": "8CcAqNjJ3z0F"
   },
   "outputs": [
    {
     "name": "stderr",
     "output_type": "stream",
     "text": [
      "/Users/maximechappuis/Library/Python/3.9/lib/python/site-packages/urllib3/__init__.py:35: NotOpenSSLWarning: urllib3 v2 only supports OpenSSL 1.1.1+, currently the 'ssl' module is compiled with 'LibreSSL 2.8.3'. See: https://github.com/urllib3/urllib3/issues/3020\n",
      "  warnings.warn(\n"
     ]
    }
   ],
   "source": [
    "%matplotlib inline\n",
    "import math, sys, os, torch, torchvision\n",
    "from torch import nn\n",
    "import numpy as np\n",
    "import matplotlib.pyplot as plt"
   ]
  },
  {
   "cell_type": "code",
   "execution_count": 5,
   "id": "c864b86e-6e6b-4d8a-82c8-6822072a676f",
   "metadata": {
    "id": "3Wxb9pdV3z0F"
   },
   "outputs": [
    {
     "name": "stdout",
     "output_type": "stream",
     "text": [
      "Using gpu: False \n"
     ]
    }
   ],
   "source": [
    "device = torch.device(\"cuda:0\" if torch.cuda.is_available() else \"cpu\")\n",
    "print('Using gpu: %s ' % torch.cuda.is_available())"
   ]
  },
  {
   "cell_type": "markdown",
   "id": "aa038da6-b812-4053-9b72-8ff97ceb3b9b",
   "metadata": {
    "id": "1Sjq8zzf3z0G"
   },
   "source": [
    "We will be training many models. Select a number of epochs to train each model. If you are using a slow machine, or if you want to restart training often and have many development iterations, we suggest `NUM_EPOCH = 2`. If you are using a fast machine, or have a GPU available, of if you are confident that you can write accurate code first try, you will get better accuracies by increasing this constant. You could be able to afford up to `NUM_EPOCH = 10`."
   ]
  },
  {
   "cell_type": "code",
   "execution_count": 6,
   "id": "137adce6-13cc-4ccc-aaf3-42230e322a9b",
   "metadata": {
    "id": "L9CF0H4O3z0G"
   },
   "outputs": [],
   "source": [
    "NUM_EPOCH = 2"
   ]
  },
  {
   "cell_type": "markdown",
   "id": "6ce850e9-ef4e-4323-af2d-be6b94e98994",
   "metadata": {
    "id": "65e20f5e"
   },
   "source": [
    "# Part A - Linear, MLP, and CNN\n"
   ]
  },
  {
   "cell_type": "markdown",
   "id": "05aff4bd-8b1d-4531-89d8-64ce4e2b6357",
   "metadata": {
    "id": "KSAiV2ov3z0H"
   },
   "source": [
    "## Handwritten digit recognition dataset\n",
    "\n",
    "We will use the MNIST database (Modified National Institute of Standards and Technology database). It contains tens of thousands of pictures of handwritten digits. This database was compiled in 1994, as part of the effort in the 1990s to standardize automation of sorting devices with human input, for instance sorting mail with handwritten postal codes at the post office. This is now often considered one of the first real successes of neural networks, and the first easy example on which performance of new such algorithms is tested."
   ]
  },
  {
   "cell_type": "markdown",
   "id": "3429898a-0f57-4cdf-9aa6-7b1121ee4e53",
   "metadata": {},
   "source": [
    "Load the dataset (train and test splits) using `torchvision`"
   ]
  },
  {
   "cell_type": "code",
   "execution_count": 7,
   "id": "59e1c523-4b78-492a-b103-2861af8c3d89",
   "metadata": {
    "id": "Zu3hU4dQ3z0H"
   },
   "outputs": [
    {
     "name": "stdout",
     "output_type": "stream",
     "text": [
      "Downloading http://yann.lecun.com/exdb/mnist/train-images-idx3-ubyte.gz\n",
      "Failed to download (trying next):\n",
      "HTTP Error 404: Not Found\n",
      "\n",
      "Downloading https://ossci-datasets.s3.amazonaws.com/mnist/train-images-idx3-ubyte.gz\n",
      "Downloading https://ossci-datasets.s3.amazonaws.com/mnist/train-images-idx3-ubyte.gz to ./data/MNIST/MNIST/raw/train-images-idx3-ubyte.gz\n"
     ]
    },
    {
     "name": "stderr",
     "output_type": "stream",
     "text": [
      "100%|██████████| 9912422/9912422 [00:05<00:00, 1715356.14it/s]\n"
     ]
    },
    {
     "name": "stdout",
     "output_type": "stream",
     "text": [
      "Extracting ./data/MNIST/MNIST/raw/train-images-idx3-ubyte.gz to ./data/MNIST/MNIST/raw\n",
      "\n",
      "Downloading http://yann.lecun.com/exdb/mnist/train-labels-idx1-ubyte.gz\n",
      "Failed to download (trying next):\n",
      "HTTP Error 404: Not Found\n",
      "\n",
      "Downloading https://ossci-datasets.s3.amazonaws.com/mnist/train-labels-idx1-ubyte.gz\n",
      "Downloading https://ossci-datasets.s3.amazonaws.com/mnist/train-labels-idx1-ubyte.gz to ./data/MNIST/MNIST/raw/train-labels-idx1-ubyte.gz\n"
     ]
    },
    {
     "name": "stderr",
     "output_type": "stream",
     "text": [
      "100%|██████████| 28881/28881 [00:00<00:00, 347002.21it/s]\n"
     ]
    },
    {
     "name": "stdout",
     "output_type": "stream",
     "text": [
      "Extracting ./data/MNIST/MNIST/raw/train-labels-idx1-ubyte.gz to ./data/MNIST/MNIST/raw\n",
      "\n",
      "Downloading http://yann.lecun.com/exdb/mnist/t10k-images-idx3-ubyte.gz\n",
      "Failed to download (trying next):\n",
      "HTTP Error 404: Not Found\n",
      "\n",
      "Downloading https://ossci-datasets.s3.amazonaws.com/mnist/t10k-images-idx3-ubyte.gz\n",
      "Downloading https://ossci-datasets.s3.amazonaws.com/mnist/t10k-images-idx3-ubyte.gz to ./data/MNIST/MNIST/raw/t10k-images-idx3-ubyte.gz\n"
     ]
    },
    {
     "name": "stderr",
     "output_type": "stream",
     "text": [
      "100%|██████████| 1648877/1648877 [00:01<00:00, 1491753.47it/s]\n"
     ]
    },
    {
     "name": "stdout",
     "output_type": "stream",
     "text": [
      "Extracting ./data/MNIST/MNIST/raw/t10k-images-idx3-ubyte.gz to ./data/MNIST/MNIST/raw\n",
      "\n",
      "Downloading http://yann.lecun.com/exdb/mnist/t10k-labels-idx1-ubyte.gz\n",
      "Failed to download (trying next):\n",
      "HTTP Error 404: Not Found\n",
      "\n",
      "Downloading https://ossci-datasets.s3.amazonaws.com/mnist/t10k-labels-idx1-ubyte.gz\n",
      "Downloading https://ossci-datasets.s3.amazonaws.com/mnist/t10k-labels-idx1-ubyte.gz to ./data/MNIST/MNIST/raw/t10k-labels-idx1-ubyte.gz\n"
     ]
    },
    {
     "name": "stderr",
     "output_type": "stream",
     "text": [
      "100%|██████████| 4542/4542 [00:00<00:00, 1020655.17it/s]"
     ]
    },
    {
     "name": "stdout",
     "output_type": "stream",
     "text": [
      "Extracting ./data/MNIST/MNIST/raw/t10k-labels-idx1-ubyte.gz to ./data/MNIST/MNIST/raw\n",
      "\n"
     ]
    },
    {
     "name": "stderr",
     "output_type": "stream",
     "text": [
      "\n"
     ]
    }
   ],
   "source": [
    "import torchvision.datasets as datasets\n",
    "import torchvision.transforms as transforms\n",
    "\n",
    "root_dir = './data/MNIST/'\n",
    "\n",
    "transform = transforms.ToTensor()\n",
    "\n",
    "train_dataset = datasets.MNIST(root=root_dir, train=True, download=True, transform=transform)\n",
    "test_dataset = datasets.MNIST(root=root_dir, train=False, download=True, transform=transform)\n",
    "\n"
   ]
  },
  {
   "cell_type": "markdown",
   "id": "d77fbaba-b01f-46d0-a1d7-47c59faaf042",
   "metadata": {},
   "source": [
    "How many examples in each split? \n",
    "\n",
    "Plot the first image and label of the training set using `matplotlib`\n",
    "\n",
    "What is the input dimension?"
   ]
  },
  {
   "cell_type": "code",
   "execution_count": 35,
   "id": "083f07f4-e129-4e9b-b26e-a32fd4bdb99d",
   "metadata": {
    "id": "9fgMls5P3z0I",
    "scrolled": true
   },
   "outputs": [
    {
     "name": "stdout",
     "output_type": "stream",
     "text": [
      "Number of training examples: 60000\n",
      "Number of test examples: 10000\n"
     ]
    }
   ],
   "source": [
    "print(f\"Number of training examples: {len(train_dataset)}\")\n",
    "print(f\"Number of test examples: {len(test_dataset)}\")"
   ]
  },
  {
   "cell_type": "code",
   "execution_count": 36,
   "id": "dc2fbd26-b017-435a-822e-ad382eabd8a4",
   "metadata": {},
   "outputs": [
    {
     "data": {
      "image/png": "[encoded data removed]",
      "text/plain": [
       "<Figure size 640x480 with 1 Axes>"
      ]
     },
     "metadata": {},
     "output_type": "display_data"
    }
   ],
   "source": [
    "import matplotlib.pyplot as plt\n",
    "\n",
    "image, label = train_dataset[0]\n",
    "\n",
    "plt.imshow(image.squeeze(), cmap='gray')\n",
    "plt.title(f\"Label: {label}\")\n",
    "plt.axis('off')\n",
    "plt.show()"
   ]
  },
  {
   "cell_type": "code",
   "execution_count": 37,
   "id": "b4e268ab",
   "metadata": {},
   "outputs": [
    {
     "name": "stdout",
     "output_type": "stream",
     "text": [
      "Image shape: torch.Size([1, 28, 28])\n"
     ]
    }
   ],
   "source": [
    "print(f\"Image shape: {image.shape}\")\n"
   ]
  },
  {
   "cell_type": "code",
   "execution_count": null,
   "id": "36942147",
   "metadata": {},
   "outputs": [],
   "source": []
  },
  {
   "cell_type": "markdown",
   "id": "f6380c03-1427-4dea-974e-5a38621ea6c1",
   "metadata": {
    "id": "Guv5_hY63z0L"
   },
   "source": [
    "# A.1 - Linear features\n",
    "\n",
    "We start with a very simple model, linear with respect to pixel values.\n",
    "Use a `preprocess` function to downsample the image to 7x7 pixels, then flatten it and use a `torch.nn.Linear` model.\n",
    "\n",
    "The torch average-pooling function is `torch.nn.functional.avg_pool2d`, check the documentation to set the arguments properly.\n",
    "DO NOT use your implementation of average-pooling, it would take prohibitively long to train and you would not finish the practical.\n",
    "If the training takes too long, go back to the first section and lower the `NUM_EPOCH` constant."
   ]
  },
  {
   "cell_type": "markdown",
   "id": "f2bb8e5d-7d84-4a59-aa5d-e942ffa22aa8",
   "metadata": {},
   "source": [
    "Again, use matplotlib to visualize an example of downsampling"
   ]
  },
  {
   "cell_type": "code",
   "execution_count": 38,
   "id": "ac111d5c-dfa2-44e2-9a57-f2f4c2caff2d",
   "metadata": {},
   "outputs": [
    {
     "data": {
      "image/png": "[encoded data removed]",
      "text/plain": [
       "<Figure size 640x480 with 1 Axes>"
      ]
     },
     "metadata": {},
     "output_type": "display_data"
    }
   ],
   "source": [
    "import torch.nn.functional as F\n",
    "\n",
    "def preprocess(x):\n",
    "    x = F.avg_pool2d(x, kernel_size=4)\n",
    "    return x.view(x.size(0), -1)\n",
    "\n",
    "sample_img, sample_label = train_dataset[0]\n",
    "downsampled_img = F.avg_pool2d(sample_img.unsqueeze(0), kernel_size=4).squeeze()\n",
    "\n",
    "plt.imshow(downsampled_img, cmap='gray')\n",
    "plt.title(f\"Downsampled Image (7x7), Label: {sample_label}\")\n",
    "plt.axis('off')\n",
    "plt.show()"
   ]
  },
  {
   "cell_type": "code",
   "execution_count": 39,
   "id": "6aa4adcb-be17-4f0d-ba9f-4da062227230",
   "metadata": {
    "id": "2v3GqEPU3z0L"
   },
   "outputs": [],
   "source": [
    "class LinearModel(nn.Module):\n",
    "    def __init__(self):\n",
    "        super().__init__()\n",
    "        self.linear = nn.Linear(49, 10)\n",
    "\n",
    "    def forward(self, x):\n",
    "        return self.linear(x)"
   ]
  },
  {
   "cell_type": "markdown",
   "id": "e5becae4-e27f-43ed-a1c5-ced8c16f4cac",
   "metadata": {
    "id": "qeWZ7DeNMG20"
   },
   "source": [
    "## A.2 - Loss and optimizer\n",
    "Create a cross entropy loss."
   ]
  },
  {
   "cell_type": "code",
   "execution_count": 40,
   "id": "a85b789e",
   "metadata": {
    "id": "a85b789e"
   },
   "outputs": [],
   "source": [
    "criterion = nn.CrossEntropyLoss()\n"
   ]
  },
  {
   "cell_type": "markdown",
   "id": "43aec31b-3d2b-4b29-ad85-e88a6e25660a",
   "metadata": {
    "id": "ZCnlsh9iMhx_"
   },
   "source": [
    "## A.3 - Training and testing loops\n",
    "Finally, create the functions `train(model, epoch, preprocess, optimizer)` and `test(model)` to train (one epoch with SGD and a learning rate of $10^{-3}$) and test your model."
   ]
  },
  {
   "cell_type": "code",
   "execution_count": 41,
   "id": "41ac2bbe",
   "metadata": {},
   "outputs": [],
   "source": [
    "from torch.utils.data import DataLoader\n",
    "\n",
    "train_loader = DataLoader(train_dataset, batch_size=64, shuffle=True)\n",
    "test_loader = DataLoader(test_dataset, batch_size=64, shuffle=False)"
   ]
  },
  {
   "cell_type": "code",
   "execution_count": 42,
   "id": "521e5485-b676-4f73-bedc-d35c5fcfd394",
   "metadata": {
    "id": "iMXijrch3z0L"
   },
   "outputs": [],
   "source": [
    "def train(model, epoch, preprocess, optimizer):\n",
    "    model.train()\n",
    "    criterion = nn.CrossEntropyLoss()\n",
    "    correct = 0\n",
    "    total = 0\n",
    "\n",
    "    for data, target in train_loader:\n",
    "        data = preprocess(data)\n",
    "        optimizer.zero_grad()\n",
    "        output = model(data)\n",
    "        loss = criterion(output, target)\n",
    "        loss.backward()\n",
    "        optimizer.step()\n",
    "\n",
    "        preds = output.argmax(dim=1)\n",
    "        correct += (preds == target).sum().item()\n",
    "        total += target.size(0)\n",
    "\n",
    "    train_accuracy = 100. * correct / total\n",
    "    print(f\"[Epoch {epoch}] Train Accuracy: {train_accuracy:.2f}%\")\n",
    "    return optimizer, train_accuracy\n",
    "\n",
    "\n",
    "def test(model, preprocess):\n",
    "    model.eval()\n",
    "    correct = 0\n",
    "    total = 0\n",
    "\n",
    "    with torch.no_grad():\n",
    "        for data, target in test_loader:\n",
    "            data = preprocess(data)\n",
    "            output = model(data)\n",
    "            preds = output.argmax(dim=1)\n",
    "            correct += (preds == target).sum().item()\n",
    "            total += target.size(0)\n",
    "\n",
    "    accuracy = 100. * correct / total\n",
    "    print(f\"Test Accuracy: {accuracy:.2f}%\")\n",
    "    return accuracy\n"
   ]
  },
  {
   "cell_type": "markdown",
   "id": "aa359382-2580-44ae-bcdb-3f18cf1f4c61",
   "metadata": {
    "id": "_t4SiXk33z0L"
   },
   "source": [
    "You should get at least 85\\% test accuracy even with only 2 epochs. We will be aiming for around 95\\% test accuracy and above."
   ]
  },
  {
   "cell_type": "code",
   "execution_count": 85,
   "id": "6f12bf85-45c6-41d9-87f3-0601bc4b6339",
   "metadata": {
    "id": "nBmfvtl6UbUe",
    "scrolled": true
   },
   "outputs": [
    {
     "name": "stdout",
     "output_type": "stream",
     "text": [
      "[Epoch 1] Train Accuracy: 79.94%\n",
      "Test Accuracy: 85.52%\n",
      "[Epoch 2] Train Accuracy: 85.17%\n",
      "Test Accuracy: 86.76%\n",
      "[Epoch 3] Train Accuracy: 85.95%\n",
      "Test Accuracy: 87.26%\n",
      "[Epoch 4] Train Accuracy: 86.33%\n",
      "Test Accuracy: 87.59%\n",
      "[Epoch 5] Train Accuracy: 86.63%\n",
      "Test Accuracy: 87.73%\n"
     ]
    }
   ],
   "source": [
    "LR = 0.4\n",
    "\n",
    "model = LinearModel()\n",
    "optimizer = torch.optim.SGD(model.parameters(), lr=LR)\n",
    "\n",
    "\n",
    "for epoch in range(1, NUM_EPOCH + 1):\n",
    "    optimizer, _ = train(model, epoch, preprocess, optimizer)\n",
    "    test(model, preprocess)"
   ]
  },
  {
   "cell_type": "markdown",
   "id": "bf28bb4e-7178-4340-9247-f69591e86dcf",
   "metadata": {
    "id": "RrwYAMMBEUPN"
   },
   "source": [
    "## A.4 - Multi-layer perceptron (MLP)\n",
    "\n",
    "Create a class MLP that creates an MLP of given width and depth, and use it to create a 3-layer MLP of width $100$. We will assume that `width > 0` and `depth > 0`."
   ]
  },
  {
   "cell_type": "code",
   "execution_count": 59,
   "id": "79cb6479-d475-4f0e-b0f7-fdd107d9e835",
   "metadata": {
    "colab": {
     "base_uri": "https://localhost:8080/"
    },
    "id": "e8353cd9",
    "outputId": "c7f5eeaf-0638-45c3-842e-4372d21ff712"
   },
   "outputs": [],
   "source": [
    "class MLP(nn.Module):\n",
    "    def __init__(self, input_dim=49, width=100, depth=3, output_dim=10):\n",
    "        super().__init__()\n",
    "        layers = []\n",
    "\n",
    "        layers.append(nn.Linear(input_dim, width))\n",
    "        layers.append(nn.ReLU())\n",
    "\n",
    "        for _ in range(depth - 1):\n",
    "            layers.append(nn.Linear(width, width))\n",
    "            layers.append(nn.ReLU())\n",
    "\n",
    "        layers.append(nn.Linear(width, output_dim))\n",
    "\n",
    "        self.model = nn.Sequential(*layers)\n",
    "\n",
    "    def forward(self, x):\n",
    "        return self.model(x)\n"
   ]
  },
  {
   "cell_type": "code",
   "execution_count": 60,
   "id": "d44d583f",
   "metadata": {},
   "outputs": [
    {
     "name": "stdout",
     "output_type": "stream",
     "text": [
      "[Epoch 1] Train Accuracy: 77.02%\n",
      "Test Accuracy: 91.24%\n",
      "[Epoch 2] Train Accuracy: 92.03%\n",
      "Test Accuracy: 93.03%\n"
     ]
    }
   ],
   "source": [
    "model = MLP(input_dim=49, width=100, depth=3)\n",
    "LR = 0.4\n",
    "optimizer = torch.optim.SGD(model.parameters(), lr=LR)\n",
    "\n",
    "\n",
    "for epoch in range(1, NUM_EPOCH + 1):\n",
    "    optimizer, _ = train(model, epoch, preprocess, optimizer)\n",
    "    test(model, preprocess)"
   ]
  },
  {
   "cell_type": "code",
   "execution_count": null,
   "id": "20264f71",
   "metadata": {},
   "outputs": [],
   "source": []
  },
  {
   "cell_type": "markdown",
   "id": "76ca5a11-93e4-47ab-81f1-e4ee3cae45c9",
   "metadata": {
    "id": "v1czyC9R3z0R"
   },
   "source": [
    "# A.5 - Deep convolutional model\n",
    "\n",
    "Write a convolutional model, with learned features.\n",
    "Use two layers, one convolutional with 8 filters of size 3x3, then take a relu and max-pool with kernel size 2, and finally flatten and add a Linear layer. You can use the identity as pre-processing function."
   ]
  },
  {
   "cell_type": "markdown",
   "id": "4933e318-5521-4bf8-b011-bdb95ed0d8b0",
   "metadata": {},
   "source": [
    "\n",
    "Here is a little animation to remind you of the sliding window principle of convolutions.\n",
    "\n",
    "![conv](https://github.com//vdumoulin/conv_arithmetic/raw/master/gif/no_padding_no_strides.gif)"
   ]
  },
  {
   "cell_type": "code",
   "execution_count": 63,
   "id": "44c87b30-36d7-4567-b009-a41413afac5b",
   "metadata": {
    "id": "l4QOi_oe3z0R"
   },
   "outputs": [],
   "source": [
    "class ConvModel(torch.nn.Module):\n",
    "    def __init__(self):\n",
    "        super(ConvModel, self).__init__()\n",
    "        self.conv = nn.Conv2d(in_channels=1, out_channels=8, kernel_size=3)\n",
    "        \n",
    "        self.pool = nn.MaxPool2d(kernel_size=2)\n",
    "        \n",
    "        # Calcul de la taille après conv + pool :\n",
    "        # 28x28 → Conv3x3 → 26x26 → MaxPool2x2 → 13x13\n",
    "        self.fc = nn.Linear(8 * 13 * 13, 10)\n",
    "\n",
    "    def forward(self,x):\n",
    "        x = self.conv(x)           # [B, 8, 26, 26]\n",
    "        x = F.relu(x)              # [B, 8, 26, 26]\n",
    "        x = self.pool(x)           # [B, 8, 13, 13]\n",
    "        x = x.view(x.size(0), -1)  # Flatten → [B, 8*13*13]\n",
    "        x = self.fc(x)             # [B, 10]\n",
    "        return x\n"
   ]
  },
  {
   "cell_type": "code",
   "execution_count": 68,
   "id": "09c9911a",
   "metadata": {},
   "outputs": [
    {
     "name": "stdout",
     "output_type": "stream",
     "text": [
      "[Epoch 1] Train Accuracy: 89.39%\n",
      "Test Accuracy: 93.95%\n",
      "[Epoch 2] Train Accuracy: 94.78%\n",
      "Test Accuracy: 95.72%\n",
      "[Epoch 3] Train Accuracy: 96.29%\n",
      "Test Accuracy: 96.84%\n",
      "[Epoch 4] Train Accuracy: 97.00%\n",
      "Test Accuracy: 97.17%\n",
      "[Epoch 5] Train Accuracy: 97.52%\n",
      "Test Accuracy: 97.35%\n",
      "[Epoch 6] Train Accuracy: 97.80%\n",
      "Test Accuracy: 97.45%\n",
      "[Epoch 7] Train Accuracy: 97.99%\n",
      "Test Accuracy: 97.50%\n",
      "[Epoch 8] Train Accuracy: 98.17%\n",
      "Test Accuracy: 97.68%\n",
      "[Epoch 9] Train Accuracy: 98.30%\n",
      "Test Accuracy: 97.86%\n",
      "[Epoch 10] Train Accuracy: 98.48%\n",
      "Test Accuracy: 97.75%\n"
     ]
    }
   ],
   "source": [
    "model = ConvModel()\n",
    "optimizer = torch.optim.Adam(model.parameters(), lr=1e-3)\n",
    "NUM_EPOCH = 10\n",
    "\n",
    "\n",
    "for epoch in range(1, NUM_EPOCH + 1):\n",
    "    optimizer, _ = train(model, epoch, lambda x: x, optimizer)\n",
    "    test(model, lambda x: x)"
   ]
  },
  {
   "cell_type": "markdown",
   "id": "a0313eed-03ad-461d-9ddb-bb690c631149",
   "metadata": {
    "id": "pbQ1LUqf3z0R"
   },
   "source": [
    "You should be able to get around 97\\% to 98\\% accuracy with this model. Try increasing the NUM_EPOCH constant and watch what happens to test accuracy and train accuracy as training progresses further.\n",
    "\n",
    "Write a deeper convolutional model, with one convolutional layer as previously, but three linear layers with relu activations after that.\n",
    "Use `h = 100` hidden neurons. How does the test accuracy compare with the previous two-layer network ?"
   ]
  },
  {
   "cell_type": "markdown",
   "id": "2598b268",
   "metadata": {},
   "source": [
    "Le modèle avec trois couches linéaires atteint une meilleure précision test (~98.5%) que le réseau à deux couches (~97.9%), mais avec un risque plus élevé de surapprentissage."
   ]
  },
  {
   "cell_type": "code",
   "execution_count": 69,
   "id": "792791e1-0514-4749-a3fb-d27eb10a1bd2",
   "metadata": {
    "id": "YM-OhC123z0R"
   },
   "outputs": [],
   "source": [
    "class ConvDeepModel(torch.nn.Module):\n",
    "    def __init__(self, h=100):\n",
    "        super(ConvDeepModel, self).__init__()\n",
    "        self.conv = nn.Conv2d(in_channels=1, out_channels=8, kernel_size=3)\n",
    "        self.pool = nn.MaxPool2d(kernel_size=2)\n",
    "\n",
    "        # Taille après conv + pool : 28x28 → 26x26 → 13x13\n",
    "        flatten_dim = 8 * 13 * 13\n",
    "\n",
    "        # Trois couches linéaires avec ReLU entre elles\n",
    "        self.fc1 = nn.Linear(flatten_dim, h)\n",
    "        self.fc2 = nn.Linear(h, h)\n",
    "        self.fc3 = nn.Linear(h, 10)\n",
    "\n",
    "    def forward(self,x):\n",
    "        x = self.conv(x)           # [B, 8, 26, 26]\n",
    "        x = F.relu(x)\n",
    "        x = self.pool(x)           # [B, 8, 13, 13]\n",
    "        x = x.view(x.size(0), -1)  # Flatten [B, 1352]\n",
    "        x = F.relu(self.fc1(x))    # [B, h]\n",
    "        x = F.relu(self.fc2(x))    # [B, h]\n",
    "        x = self.fc3(x)            # [B, 10]\n",
    "        return x"
   ]
  },
  {
   "cell_type": "code",
   "execution_count": 71,
   "id": "59e8aecb",
   "metadata": {},
   "outputs": [
    {
     "name": "stdout",
     "output_type": "stream",
     "text": [
      "[Epoch 1] Train Accuracy: 89.97%\n",
      "Test Accuracy: 95.92%\n",
      "[Epoch 2] Train Accuracy: 96.81%\n",
      "Test Accuracy: 97.17%\n",
      "[Epoch 3] Train Accuracy: 97.72%\n",
      "Test Accuracy: 97.86%\n",
      "[Epoch 4] Train Accuracy: 98.22%\n",
      "Test Accuracy: 98.05%\n",
      "[Epoch 5] Train Accuracy: 98.53%\n",
      "Test Accuracy: 98.29%\n",
      "[Epoch 6] Train Accuracy: 98.76%\n",
      "Test Accuracy: 98.09%\n",
      "[Epoch 7] Train Accuracy: 98.91%\n",
      "Test Accuracy: 98.40%\n",
      "[Epoch 8] Train Accuracy: 99.13%\n",
      "Test Accuracy: 98.46%\n",
      "[Epoch 9] Train Accuracy: 99.26%\n",
      "Test Accuracy: 98.26%\n",
      "[Epoch 10] Train Accuracy: 99.36%\n",
      "Test Accuracy: 98.38%\n"
     ]
    }
   ],
   "source": [
    "model = ConvDeepModel(h=100)\n",
    "optimizer = torch.optim.Adam(model.parameters(), lr=1e-3)\n",
    "NUM_EPOCH = 10\n",
    "\n",
    "for epoch in range(1, NUM_EPOCH + 1):\n",
    "    optimizer, _ = train(model, epoch, lambda x: x, optimizer)\n",
    "    test(model, lambda x: x)"
   ]
  },
  {
   "cell_type": "markdown",
   "id": "46fd763b-b36a-461c-ad34-f472e62ce46d",
   "metadata": {},
   "source": [
    "## A.6 Visualisations of convolutions\n",
    "\n",
    "After training your model, let's see what features it has learned!\n",
    "\n",
    "Plot an image from the test set then plot all 8 feature maps extracted by the convolutional layer"
   ]
  },
  {
   "cell_type": "code",
   "execution_count": 72,
   "id": "0e5284c2-4210-4ccc-bf05-5e722bdabf63",
   "metadata": {},
   "outputs": [
    {
     "data": {
      "image/png": "[encoded data removed]",
      "text/plain": [
       "<Figure size 300x300 with 1 Axes>"
      ]
     },
     "metadata": {},
     "output_type": "display_data"
    },
    {
     "data": {
      "image/png": "[encoded data removed]",
      "text/plain": [
       "<Figure size 1000x500 with 8 Axes>"
      ]
     },
     "metadata": {},
     "output_type": "display_data"
    }
   ],
   "source": [
    "import matplotlib.pyplot as plt\n",
    "\n",
    "def visualize_feature_maps(model, dataset):\n",
    "    model.eval()\n",
    "\n",
    "    image, label = dataset[0]\n",
    "    image = image.unsqueeze(0)\n",
    "\n",
    "    with torch.no_grad():\n",
    "        x = model.conv(image)\n",
    "        x = F.relu(x)\n",
    "        feature_maps = x.squeeze(0)\n",
    "\n",
    "    plt.figure(figsize=(3, 3))\n",
    "    plt.imshow(image.squeeze(), cmap='gray')\n",
    "    plt.title(f\"Original Image - Label: {label}\")\n",
    "    plt.axis('off')\n",
    "    plt.show()\n",
    "\n",
    "    fig, axs = plt.subplots(2, 4, figsize=(10, 5))\n",
    "    for i in range(8):\n",
    "        ax = axs[i // 4, i % 4]\n",
    "        ax.imshow(feature_maps[i], cmap='viridis')\n",
    "        ax.axis('off')\n",
    "        ax.set_title(f\"Feature Map {i+1}\")\n",
    "    plt.tight_layout()\n",
    "    plt.show()\n",
    "\n",
    "\n",
    "visualize_feature_maps(model, test_dataset)\n"
   ]
  },
  {
   "cell_type": "markdown",
   "id": "dc457ad1-3240-4ffb-a8f3-98c6554dfce5",
   "metadata": {
    "id": "riu_K1at3z0R"
   },
   "source": [
    "# Part B - Residual models\n",
    "\n",
    "## B.1 - Residual blocks\n",
    "\n",
    "Write a residual block with two linear layers to learn a function $\\mathbb{R}^d \\to \\mathbb{R}^d$ with $h < d$ hidden neurons.\n",
    "Write a convolutional residual block with the same idea. What hyperparameter acts as the number of hidden neurons in convolutional blocks ?"
   ]
  },
  {
   "cell_type": "markdown",
   "id": "1b8655fc",
   "metadata": {},
   "source": [
    "c'est h"
   ]
  },
  {
   "cell_type": "code",
   "execution_count": 73,
   "id": "aec298d4-4372-4a1f-be53-a278d051c0f6",
   "metadata": {
    "id": "gkCILVwd3z0R"
   },
   "outputs": [],
   "source": [
    "class ResidualBlock(torch.nn.Module):\n",
    "    def __init__(self, d, h):\n",
    "        super(ResidualBlock, self).__init__()\n",
    "        self.fc1 = nn.Linear(d, h)\n",
    "        self.fc2 = nn.Linear(h, d)\n",
    "\n",
    "    def forward(self,x):\n",
    "        residual = x\n",
    "        out = F.relu(self.fc1(x))\n",
    "        out = self.fc2(out)\n",
    "        return out + residual"
   ]
  },
  {
   "cell_type": "code",
   "execution_count": 74,
   "id": "3760373a",
   "metadata": {},
   "outputs": [],
   "source": [
    "class ConvolutionalResidualBlock(nn.Module):\n",
    "    def __init__(self, in_channels, hidden_channels):\n",
    "        super(ConvolutionalResidualBlock, self).__init__()\n",
    "\n",
    "        self.conv1 = nn.Conv2d(in_channels, hidden_channels, kernel_size=3, padding=1)\n",
    "        self.conv2 = nn.Conv2d(hidden_channels, in_channels, kernel_size=3, padding=1)\n",
    "\n",
    "    def forward(self, x):\n",
    "        residual = x  # skip connection\n",
    "        out = F.relu(self.conv1(x))\n",
    "        out = self.conv2(out)\n",
    "        return out + residual\n"
   ]
  },
  {
   "cell_type": "code",
   "execution_count": 75,
   "id": "7d8b5472",
   "metadata": {},
   "outputs": [
    {
     "name": "stdout",
     "output_type": "stream",
     "text": [
      "torch.Size([32, 8, 28, 28])\n"
     ]
    }
   ],
   "source": [
    "block = ConvolutionalResidualBlock(in_channels=8, hidden_channels=4)\n",
    "\n",
    "x = torch.randn(32, 8, 28, 28)\n",
    "out = block(x)\n",
    "print(out.shape)\n"
   ]
  },
  {
   "cell_type": "markdown",
   "id": "8cc0097d-269c-40f4-b182-bdc79bd5c512",
   "metadata": {
    "id": "huKWOvVc3z0S"
   },
   "source": [
    "## B.2 - Stacking residual blocks\n",
    "\n",
    "Use a single convolution layer, followed by a relu and max-pool, then an arbitrary number of residual blocks as defined above, and finish with a linear layer. Can you match the accuracy of the two-layer network ? Can you exceed it ? What happens when you increase the number of layers ? Look at the details of the ResNet architecture on the lecture's slides to get an idea of how to increase the number of hidden neurons and the number of layers. One of the strengths of ResNets was there relatively low number of parameters compared\n",
    "to a multi-layer architecture like that of the previous section, does this show in your experiments ?"
   ]
  },
  {
   "cell_type": "markdown",
   "id": "198c1daf",
   "metadata": {},
   "source": [
    "en empilant plusieurs blocs résiduels,la précision est supérieur à celle du réseau à deux couches (~98%) tout en gardant peu de paramètres"
   ]
  },
  {
   "cell_type": "code",
   "execution_count": 76,
   "id": "bf0d4de4-11e8-490c-8262-064b3e841fa5",
   "metadata": {
    "id": "U4gg9uWg3z0S"
   },
   "outputs": [],
   "source": [
    "class ResidualModel(torch.nn.Module):\n",
    "    def __init__(self, l, h, k=3, out=8):\n",
    "        super(ResidualModel, self).__init__()\n",
    "        self.conv = nn.Conv2d(1, out, kernel_size=k, padding=k // 2)\n",
    "        self.pool = nn.MaxPool2d(2)\n",
    "\n",
    "        self.res_blocks = nn.Sequential(\n",
    "            *[ConvolutionalResidualBlock(out, h) for _ in range(l)]\n",
    "        )\n",
    "\n",
    "        self.flatten_dim = out * 14 * 14\n",
    "        self.fc = nn.Linear(self.flatten_dim, 10)\n",
    "\n",
    "    def forward(self,x):\n",
    "        x = self.conv(x)   \n",
    "        x = F.relu(x)\n",
    "        x = self.pool(x)       \n",
    "        x = self.res_blocks(x) \n",
    "        x = x.view(x.size(0), -1) \n",
    "        x = self.fc(x)\n",
    "        return x"
   ]
  },
  {
   "cell_type": "code",
   "execution_count": 77,
   "id": "4529bf51",
   "metadata": {},
   "outputs": [
    {
     "name": "stdout",
     "output_type": "stream",
     "text": [
      "[Epoch 1] Train Accuracy: 93.98%\n",
      "Test Accuracy: 98.30%\n",
      "[Epoch 2] Train Accuracy: 98.02%\n",
      "Test Accuracy: 98.56%\n",
      "[Epoch 3] Train Accuracy: 98.51%\n",
      "Test Accuracy: 98.61%\n",
      "[Epoch 4] Train Accuracy: 98.75%\n",
      "Test Accuracy: 98.85%\n",
      "[Epoch 5] Train Accuracy: 98.97%\n",
      "Test Accuracy: 98.96%\n",
      "[Epoch 6] Train Accuracy: 99.09%\n",
      "Test Accuracy: 98.97%\n",
      "[Epoch 7] Train Accuracy: 99.16%\n",
      "Test Accuracy: 98.77%\n",
      "[Epoch 8] Train Accuracy: 99.27%\n",
      "Test Accuracy: 98.84%\n",
      "[Epoch 9] Train Accuracy: 99.36%\n",
      "Test Accuracy: 99.02%\n",
      "[Epoch 10] Train Accuracy: 99.33%\n",
      "Test Accuracy: 98.96%\n"
     ]
    }
   ],
   "source": [
    "model = ResidualModel(l=4, h=16, out=8)  # 4 blocs résiduels, goulot d’étranglement à 16 canaux\n",
    "optimizer = torch.optim.Adam(model.parameters(), lr=1e-3)\n",
    "NUM_EPOCH = 10\n",
    "\n",
    "for epoch in range(1, NUM_EPOCH + 1):\n",
    "    optimizer, _ = train(model, epoch, lambda x: x, optimizer)\n",
    "    test(model, lambda x: x)\n"
   ]
  },
  {
   "cell_type": "code",
   "execution_count": null,
   "id": "8c94615a",
   "metadata": {},
   "outputs": [],
   "source": []
  },
  {
   "cell_type": "markdown",
   "id": "ac0f4477",
   "metadata": {},
   "source": [
    "test avec plusieur layers"
   ]
  },
  {
   "cell_type": "code",
   "execution_count": 88,
   "id": "a5701f8e",
   "metadata": {},
   "outputs": [
    {
     "name": "stdout",
     "output_type": "stream",
     "text": [
      "\n",
      "=== Testing ResidualModel with 1 residual blocks ===\n",
      "[Epoch 1] Train Accuracy: 92.58%\n",
      "[Epoch 2] Train Accuracy: 97.44%\n",
      "[Epoch 3] Train Accuracy: 98.06%\n",
      "Test Accuracy: 98.13%\n",
      "\n",
      "=== Testing ResidualModel with 2 residual blocks ===\n",
      "[Epoch 1] Train Accuracy: 92.36%\n",
      "[Epoch 2] Train Accuracy: 97.58%\n",
      "[Epoch 3] Train Accuracy: 98.13%\n",
      "Test Accuracy: 98.70%\n",
      "\n",
      "=== Testing ResidualModel with 6 residual blocks ===\n",
      "[Epoch 1] Train Accuracy: 94.69%\n",
      "[Epoch 2] Train Accuracy: 98.11%\n",
      "[Epoch 3] Train Accuracy: 98.50%\n",
      "Test Accuracy: 98.63%\n"
     ]
    }
   ],
   "source": [
    "depths = [1, 2, 6]  # Nombre de blocs résiduels\n",
    "h = 16\n",
    "out = 8\n",
    "NUM_EPOCH = 3\n",
    "\n",
    "accuracies = {}\n",
    "\n",
    "for l in depths:\n",
    "    print(f\"\\n=== Testing ResidualModel with {l} residual blocks ===\")\n",
    "    model = ResidualModel(l=l, h=h, out=out)\n",
    "    optimizer = torch.optim.Adam(model.parameters(), lr=1e-3)\n",
    "\n",
    "    for epoch in range(1, NUM_EPOCH + 1):\n",
    "        optimizer, _ = train(model, epoch, lambda x: x, optimizer)\n",
    "\n",
    "    acc = test(model, lambda x: x)\n",
    "    accuracies[l] = acc\n"
   ]
  },
  {
   "cell_type": "markdown",
   "id": "df418703-b1e1-4276-8ba7-dd5622c7b7cd",
   "metadata": {
    "id": "2nes_ZtBoBu0"
   },
   "source": [
    "# Part C - Reimplementing loss functions\n",
    "\n",
    "## C.0 - Combining losses\n",
    "First, we recall that, for a batch of score vectors $s\\in\\mathbb{R}^{n\\times C}$ and true labels $y\\in[1,C]^n$, **cross entropy** is defined as\n",
    "$$CE(s, y) = -\\frac{1}{n}\\sum_{i=1}^n \\log\\left( \\mbox{softmax}(s_i)_{y_i} \\right)$$\n",
    "\n",
    "where $\\mbox{softmax}(x)_i = \\frac{e^{x_i}}{\\sum_{j=1}^n e^{x_j}}$ is the probability associated to class $i\\in[1,C]$ for a score vector $x\\in\\mathbb{R}^C$.\n",
    "\n",
    "Let's try to compute cross-entropy in three different ways (see the [documentation](https://pytorch.org/docs/stable/generated/torch.nn.CrossEntropyLoss.html)):\n",
    "1. Using `nn.CrossEntropyLoss()`.\n",
    "2. Using `nn.NLLLoss()` and `nn.LogSoftmax()`.\n",
    "3. Using `nn.NLLLoss()` and `nn.Softmax()`.\n",
    "\n",
    "Check that the output is the same for all three methods on Gaussian random scores `torch.randn(n_batch, n_classes)` and random labels `torch.randint(0, n_classes, [n_batch])`, where `n_batch=4` and `n_classes=10`. Note that the scores are real valued vectors while the labels are integers corresponding to the true class."
   ]
  },
  {
   "cell_type": "code",
   "execution_count": 78,
   "id": "e1b6c172",
   "metadata": {
    "id": "e1b6c172"
   },
   "outputs": [
    {
     "name": "stdout",
     "output_type": "stream",
     "text": [
      "Scores:\n",
      " tensor([[-1.1527, -0.8390,  1.2948,  0.5414,  0.0130, -0.0567, -1.8719,  0.4282,\n",
      "         -0.9000, -0.2233],\n",
      "        [-1.6650,  1.0000,  0.9193, -1.0664,  0.5198,  1.0523,  1.2277,  1.3903,\n",
      "          0.3909,  0.0709],\n",
      "        [-1.2698, -0.2703,  0.7718, -0.2679,  2.0059,  1.8283,  0.1295,  1.6710,\n",
      "         -0.3042, -0.2593],\n",
      "        [-1.2294, -0.8014,  0.4893,  0.2894,  0.6009, -0.8097, -0.2649, -0.2670,\n",
      "         -0.9286,  0.5113]], requires_grad=True)\n",
      "Labels:\n",
      " tensor([5, 0, 9, 8])\n",
      "\n",
      "Loss via nn.CrossEntropyLoss      : 3.453952\n",
      "Loss via log_softmax + NLLLoss   : 3.453952\n",
      "Loss via softmax + log + NLLLoss : 3.453952\n"
     ]
    }
   ],
   "source": [
    "import torch\n",
    "import torch.nn as nn\n",
    "import torch.nn.functional as F\n",
    "\n",
    "n_batch = 4\n",
    "n_classes = 10\n",
    "\n",
    "scores = torch.randn(n_batch, n_classes, requires_grad=True)\n",
    "labels = torch.randint(0, n_classes, (n_batch,))\n",
    "\n",
    "print(\"Scores:\\n\", scores)\n",
    "print(\"Labels:\\n\", labels)\n",
    "\n",
    "# CrossEntropyLoss\n",
    "loss1 = nn.CrossEntropyLoss()(scores, labels)\n",
    "\n",
    "# LogSoftmax + NLLLoss\n",
    "log_probs = F.log_softmax(scores, dim=1)\n",
    "loss2 = nn.NLLLoss()(log_probs, labels)\n",
    "\n",
    "# Softmax + log + NLLLoss\n",
    "probs = F.softmax(scores, dim=1)\n",
    "log_probs_manual = torch.log(probs + 1e-9)\n",
    "loss3 = nn.NLLLoss()(log_probs_manual, labels)\n",
    "\n",
    "print(f\"\\nLoss via nn.CrossEntropyLoss      : {loss1.item():.6f}\")\n",
    "print(f\"Loss via log_softmax + NLLLoss   : {loss2.item():.6f}\")\n",
    "print(f\"Loss via softmax + log + NLLLoss : {loss3.item():.6f}\")\n"
   ]
  },
  {
   "cell_type": "markdown",
   "id": "bba900c6-f7b2-4179-a2f1-f1eede4b6697",
   "metadata": {
    "id": "TWKaTBVd5ftN"
   },
   "source": [
    "## C.1 - Re-implementation\n",
    "Now re-implement cross-entropy using base functions (`torch.log`, `torch.exp`, `torch.sum`, etc...). Verify that your function returns the same value as Pytorch's implementation."
   ]
  },
  {
   "cell_type": "code",
   "execution_count": 79,
   "id": "EfA-3-E7qwgF",
   "metadata": {
    "id": "EfA-3-E7qwgF"
   },
   "outputs": [],
   "source": [
    "def ce(logits, targets):\n",
    "    \n",
    "    log_sum_exp = torch.log(torch.sum(torch.exp(logits), dim=1))\n",
    "\n",
    "    batch_indices = torch.arange(logits.size(0))\n",
    "    correct_class_scores = logits[batch_indices, targets] \n",
    "\n",
    "    loss = log_sum_exp - correct_class_scores \n",
    "    return loss.mean()\n"
   ]
  },
  {
   "cell_type": "code",
   "execution_count": 80,
   "id": "bd2ade8a",
   "metadata": {},
   "outputs": [
    {
     "name": "stdout",
     "output_type": "stream",
     "text": [
      "Manual CE : 2.260558\n",
      "Official  : 2.260558\n"
     ]
    }
   ],
   "source": [
    "# Exemple de test\n",
    "n_batch = 4\n",
    "n_classes = 10\n",
    "logits = torch.randn(n_batch, n_classes, requires_grad=True)\n",
    "targets = torch.randint(0, n_classes, (n_batch,))\n",
    "\n",
    "manual_loss = ce(logits, targets)\n",
    "\n",
    "official_loss = nn.CrossEntropyLoss()(logits, targets)\n",
    "\n",
    "print(f\"Manual CE : {manual_loss.item():.6f}\")\n",
    "print(f\"Official  : {official_loss.item():.6f}\")\n"
   ]
  },
  {
   "cell_type": "markdown",
   "id": "011ec13a-330a-4073-99b9-2eb9dd42d1f8",
   "metadata": {
    "id": "OFG0QfKN7WtO"
   },
   "source": [
    "## C.2 - Stability analysis\n",
    "Softmax probabilities can be relatively unstable due to their use of exponentials. Pytorch implementations thus usually use log probas or logits to avoid overflows or floating point errors. Test all methods (including your own) on Gaussian random scores of standard deviation equal to $100$. Which methods are stable? Why? Is it an issue in practice?"
   ]
  },
  {
   "cell_type": "markdown",
   "id": "6f48fee0",
   "metadata": {},
   "source": [
    "Les méthodes log_softmax ou logsumexp sont stables car elles évitent les surflows exponentiels, contrairement à softmax + log qui devient instable pour de grandes valeurs£"
   ]
  },
  {
   "cell_type": "code",
   "execution_count": 81,
   "id": "741771f5-864d-446a-b654-3b4f5a2598ca",
   "metadata": {},
   "outputs": [
    {
     "name": "stdout",
     "output_type": "stream",
     "text": [
      "Max logit: 170.6862030029297\n",
      "Min logit: -167.45892333984375\n",
      "1. nn.CrossEntropyLoss       : 151.333023\n",
      "2. log_softmax + NLLLoss     : 151.333023\n",
      "3. softmax + log + NLLLoss   : 15.542450\n",
      "4. ce() manually implemented : inf\n"
     ]
    }
   ],
   "source": [
    "# Données extrêmes\n",
    "n_batch = 4\n",
    "n_classes = 10\n",
    "std = 100\n",
    "\n",
    "logits = torch.randn(n_batch, n_classes) * std\n",
    "targets = torch.randint(0, n_classes, (n_batch,))\n",
    "\n",
    "print(\"Max logit:\", logits.max().item())\n",
    "print(\"Min logit:\", logits.min().item())\n",
    "\n",
    "# CrossEntropyLoss\n",
    "try:\n",
    "    loss1 = nn.CrossEntropyLoss()(logits, targets)\n",
    "    print(f\"1. nn.CrossEntropyLoss       : {loss1.item():.6f}\")\n",
    "except Exception as e:\n",
    "    print(\"1. nn.CrossEntropyLoss       : ERROR -\", e)\n",
    "\n",
    "# log_softmax + NLLLoss\n",
    "try:\n",
    "    log_probs = F.log_softmax(logits, dim=1)\n",
    "    loss2 = nn.NLLLoss()(log_probs, targets)\n",
    "    print(f\"2. log_softmax + NLLLoss     : {loss2.item():.6f}\")\n",
    "except Exception as e:\n",
    "    print(\"2. log_softmax + NLLLoss     : ERROR -\", e)\n",
    "\n",
    "# softmax + log + NLLLoss\n",
    "try:\n",
    "    probs = F.softmax(logits, dim=1)\n",
    "    log_probs_manual = torch.log(probs + 1e-9)\n",
    "    loss3 = nn.NLLLoss()(log_probs_manual, targets)\n",
    "    print(f\"3. softmax + log + NLLLoss   : {loss3.item():.6f}\")\n",
    "except Exception as e:\n",
    "    print(\"3. softmax + log + NLLLoss   : ERROR -\", e)\n",
    "\n",
    "# version manuelle avec log-sum-exp\n",
    "def ce(logits, targets):\n",
    "    log_sum_exp = torch.log(torch.sum(torch.exp(logits), dim=1))\n",
    "    batch_indices = torch.arange(logits.size(0))\n",
    "    correct_class_scores = logits[batch_indices, targets]\n",
    "    loss = log_sum_exp - correct_class_scores\n",
    "    return loss.mean()\n",
    "\n",
    "try:\n",
    "    loss4 = ce(logits, targets)\n",
    "    print(f\"4. ce() manually implemented : {loss4.item():.6f}\")\n",
    "except Exception as e:\n",
    "    print(\"4. ce() manually implemented : ERROR -\", e)"
   ]
  },
  {
   "cell_type": "markdown",
   "id": "5ecaaf7c-b21f-4e18-ac53-1a77adbc60bf",
   "metadata": {
    "id": "Y3y4BfwbBIGy"
   },
   "source": [
    "Re-implement a stable version of cross-entropy."
   ]
  },
  {
   "cell_type": "code",
   "execution_count": 82,
   "id": "83d00dab-a37e-48da-880f-81f10efdc133",
   "metadata": {},
   "outputs": [],
   "source": [
    "def stable_ce(logits, targets):\n",
    "    \"\"\"\n",
    "    logits : Tensor de forme [batch_size, num_classes]\n",
    "    targets : Tensor de forme [batch_size] contenant les indices des classes cibles\n",
    "    \"\"\"\n",
    "    log_sum_exp = torch.logsumexp(logits, dim=1)\n",
    "    \n",
    "    batch_indices = torch.arange(logits.size(0))\n",
    "    correct_scores = logits[batch_indices, targets]\n",
    "    \n",
    "    loss = log_sum_exp - correct_scores\n",
    "    return loss.mean()\n"
   ]
  },
  {
   "cell_type": "code",
   "execution_count": 83,
   "id": "32273f1f",
   "metadata": {},
   "outputs": [
    {
     "name": "stdout",
     "output_type": "stream",
     "text": [
      "Stable CE     : 79.18302154541016\n",
      "Official CE   : 79.18302154541016\n"
     ]
    }
   ],
   "source": [
    "logits = torch.randn(4, 10) * 100  # logits extrêmes\n",
    "targets = torch.randint(0, 10, (4,))\n",
    "\n",
    "print(\"Stable CE     :\", stable_ce(logits, targets).item())\n",
    "print(\"Official CE   :\", nn.CrossEntropyLoss()(logits, targets).item())\n"
   ]
  }
 ],
 "metadata": {
  "kernelspec": {
   "display_name": "Python 3",
   "language": "python",
   "name": "python3"
  },
  "language_info": {
   "codemirror_mode": {
    "name": "ipython",
    "version": 3
   },
   "file_extension": ".py",
   "mimetype": "text/x-python",
   "name": "python",
   "nbconvert_exporter": "python",
   "pygments_lexer": "ipython3",
   "version": "3.9.6"
  }
 },
 "nbformat": 4,
 "nbformat_minor": 5
}
